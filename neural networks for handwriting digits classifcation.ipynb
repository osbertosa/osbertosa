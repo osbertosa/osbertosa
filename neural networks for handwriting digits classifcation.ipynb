{
 "cells": [
  {
   "cell_type": "code",
   "execution_count": null,
   "id": "87d03175-1ab3-4e51-adf7-962099e36943",
   "metadata": {},
   "outputs": [
    {
     "ename": "",
     "evalue": "",
     "output_type": "error",
     "traceback": [
      "\u001b[1;31mThe kernel failed to start due to the missing module 'prompt_toolkit'. Consider installing this module.\n",
      "\u001b[1;31mClick <a href='https://aka.ms/kernelFailuresMissingModule'>here</a> for more info."
     ]
    }
   ],
   "source": [
    "import tensorflow as tf\n",
    "print(tf.__version__)\n"
   ]
  },
  {
   "cell_type": "code",
   "execution_count": null,
   "id": "9e907583-b131-49cd-b0a5-c6363783fc78",
   "metadata": {},
   "outputs": [],
   "source": [
    "import tensorflow  as tf\n",
    "from tensorflow import keras \n",
    "import matplotlib.pyplot as plt\n",
    "import numpy as np\n",
    "%matplotlib inline\n"
   ]
  },
  {
   "cell_type": "code",
   "execution_count": null,
   "id": "8a6722ad-9eef-45fa-9b71-b989b95ffeda",
   "metadata": {},
   "outputs": [],
   "source": [
    "(X_train,y_train ), (X_test, y_test)= keras.datasets.mnist.load_data()"
   ]
  },
  {
   "cell_type": "code",
   "execution_count": null,
   "id": "690fffe8-c37a-4621-97e1-a79b303bcf4d",
   "metadata": {},
   "outputs": [],
   "source": [
    "len(X_train)"
   ]
  },
  {
   "cell_type": "code",
   "execution_count": null,
   "id": "9f247ce1-8877-4a62-953a-361f9dc48c3f",
   "metadata": {},
   "outputs": [],
   "source": [
    "len(X_test)"
   ]
  },
  {
   "cell_type": "code",
   "execution_count": null,
   "id": "a1de9e35-1ff4-4b3c-bd9b-b0190a023920",
   "metadata": {},
   "outputs": [],
   "source": [
    "X_test[0].shape"
   ]
  },
  {
   "cell_type": "code",
   "execution_count": null,
   "id": "c33adda3-141c-4eaf-9f55-77e057a7cafe",
   "metadata": {},
   "outputs": [],
   "source": [
    "X_train[0]"
   ]
  },
  {
   "cell_type": "code",
   "execution_count": null,
   "id": "35f6de79-bc28-4ff7-8bcb-0a15d37f8511",
   "metadata": {},
   "outputs": [],
   "source": [
    "# to show image  uisng matplotlib from keras  \n",
    "plt.matshow(X_train[2])\n",
    "plt.show()"
   ]
  },
  {
   "cell_type": "code",
   "execution_count": null,
   "id": "3f9bced0-e61b-4702-96ba-93a2b0d775c9",
   "metadata": {},
   "outputs": [],
   "source": [
    "X_train= X_train/255\n",
    "X_test =X_test/255"
   ]
  },
  {
   "cell_type": "code",
   "execution_count": null,
   "id": "09d61fa6-a3ec-4659-9bb8-bd448868b0b7",
   "metadata": {},
   "outputs": [],
   "source": [
    "X_train_flatten= X_train.reshape(len(X_train), 28*28)\n",
    "X_train_flatten.shape"
   ]
  },
  {
   "cell_type": "code",
   "execution_count": null,
   "id": "de1c4703-d4d9-424e-8a70-c3837b986604",
   "metadata": {},
   "outputs": [],
   "source": [
    "X_test_flatten= X_test.reshape(len(X_test), 28*28)\n",
    "X_test_flatten.shape"
   ]
  },
  {
   "cell_type": "code",
   "execution_count": null,
   "id": "77d76281-aa14-44f3-95b5-58f49393dc72",
   "metadata": {},
   "outputs": [],
   "source": [
    "X_test_flatten"
   ]
  },
  {
   "cell_type": "code",
   "execution_count": null,
   "id": "0f0a9a65-2601-440f-8ed7-b5e36728afce",
   "metadata": {},
   "outputs": [],
   "source": [
    "X_test_flatten[0]"
   ]
  },
  {
   "cell_type": "code",
   "execution_count": null,
   "id": "b3c8c20d-e61a-4f60-99d7-dc9aeac75da0",
   "metadata": {},
   "outputs": [],
   "source": [
    "X_train_flatten[0]"
   ]
  },
  {
   "cell_type": "code",
   "execution_count": null,
   "id": "30f26eb9-3671-4848-b0c3-3b85ab46cc93",
   "metadata": {},
   "outputs": [],
   "source": [
    "# creating a simple Neural network \n",
    "\n",
    "model= keras.Sequential([keras.layers.Dense(10, input_shape= (784,),activation = 'sigmoid')])\n",
    "\n",
    "model.compile(optimizer='adam',\n",
    "             loss= 'sparse_categorical_crossentropy',\n",
    "             metrics= ['accuracy'])\n",
    "\n",
    "model.fit(X_train_flatten, y_train, epochs= 5)\n"
   ]
  },
  {
   "cell_type": "code",
   "execution_count": null,
   "id": "b8241f0e-f1f5-4d06-b546-4237e4c18c22",
   "metadata": {},
   "outputs": [],
   "source": [
    "model.evaluate(X_test_flatten, y_test)"
   ]
  },
  {
   "cell_type": "code",
   "execution_count": null,
   "id": "316ae6c5-d14c-4cbe-b05f-003ea50fe2c2",
   "metadata": {},
   "outputs": [],
   "source": [
    "# to predict images\n",
    "y_predict= model.predict(X_test_flatten)\n",
    "y_predict[:5]"
   ]
  },
  {
   "cell_type": "code",
   "execution_count": null,
   "id": "55fa9095-ee9f-43fa-bf8c-1758d09caab1",
   "metadata": {},
   "outputs": [],
   "source": [
    "# predicting the 1st image \n",
    "plt.matshow(X_test[7])\n",
    "plt.show()"
   ]
  },
  {
   "cell_type": "code",
   "execution_count": null,
   "id": "77c670fd-4a90-4e60-82f6-fb3fb9d5cc58",
   "metadata": {},
   "outputs": [],
   "source": []
  },
  {
   "cell_type": "code",
   "execution_count": null,
   "id": "8f770811-0ca7-49f1-b3a0-580f968b5336",
   "metadata": {},
   "outputs": [],
   "source": [
    "y_test[:5]"
   ]
  },
  {
   "cell_type": "code",
   "execution_count": null,
   "id": "efe9f69b-e4a2-4ec6-8895-1b4b3013f46f",
   "metadata": {},
   "outputs": [],
   "source": [
    "# to get the maximum predicted value for set\n",
    "np.argmax(y_predict[7])"
   ]
  },
  {
   "cell_type": "code",
   "execution_count": null,
   "id": "df299606-262b-49da-983c-88cc49e2feb3",
   "metadata": {},
   "outputs": [],
   "source": [
    "# convert your y_predicted into a concrete class label as a well_defined identifer \n",
    "\n",
    "y_predict_labels= [np.argmax(i) for i in y_predict ]\n",
    "y_predict_labels[:5]"
   ]
  },
  {
   "cell_type": "code",
   "execution_count": null,
   "id": "958efc4b-51d0-4c9c-aa24-b6708d3c24b7",
   "metadata": {},
   "outputs": [],
   "source": [
    "# uisng confusion matrix to evaluate our trained dataset\n",
    "cm = tf.math.confusion_matrix(labels= y_test, predictions= y_predict_labels )\n",
    "cm"
   ]
  },
  {
   "cell_type": "code",
   "execution_count": null,
   "id": "cb22c6f2-636c-42c6-b5bf-cfaa56a9240d",
   "metadata": {},
   "outputs": [],
   "source": [
    "import seaborn as sn\n",
    "plt.figure(figsize=(10,7))\n",
    "sn.heatmap(cm, annot= True, fmt= 'd')\n",
    "plt.xlabel('predicted') \n",
    "plt.ylabel('Truth')\n",
    "plt.show()"
   ]
  },
  {
   "cell_type": "code",
   "execution_count": null,
   "id": "abe6f4bf-fcfc-4bbc-b6cf-d2da2993d0b7",
   "metadata": {},
   "outputs": [],
   "source": [
    "# adding hidden layers \n",
    "\n",
    "model= keras.Sequential(\n",
    "    [keras.layers.Dense(300, input_shape= (784,),activation = 'relu6'),\n",
    "    keras.layers.Dense(10, activation = 'sigmoid')\n",
    "    ])    \n",
    "\n",
    "model.compile(optimizer='adam',\n",
    "             loss= 'sparse_categorical_crossentropy',\n",
    "             metrics= ['accuracy'])\n",
    "\n",
    "model.fit(X_train_flatten, y_train, epochs= 5)\n"
   ]
  },
  {
   "cell_type": "code",
   "execution_count": null,
   "id": "00731a1d-74e2-431f-9fb9-6ed9647a0761",
   "metadata": {},
   "outputs": [],
   "source": [
    "model.evaluate(X_test, y_test)"
   ]
  },
  {
   "cell_type": "code",
   "execution_count": null,
   "id": "74659335-d8da-4cd7-b933-048150f89062",
   "metadata": {},
   "outputs": [],
   "source": [
    "import torch.nn as nn\n"
   ]
  },
  {
   "cell_type": "code",
   "execution_count": null,
   "id": "d52c75ad-45ec-4019-bb88-e75bf02e7f7c",
   "metadata": {},
   "outputs": [],
   "source": [
    "model= keras.Sequential([\n",
    "    keras.layers.Flatten(input_shape= (28,28)),\n",
    "    keras.layers.Dense(300, activation = 'relu6'),\n",
    "    keras.layers.Dense(10, activation = 'sigmoid')\n",
    "    ])    \n",
    "\n",
    "model.compile(optimizer='adam',\n",
    "             loss= 'sparse_categorical_crossentropy',\n",
    "             metrics= ['accuracy'])\n",
    "\n",
    "model.fit(X_train, y_train, epochs= 5)\n"
   ]
  },
  {
   "cell_type": "code",
   "execution_count": null,
   "id": "6ab41fda-be31-4fa5-bb4f-622bfa663e37",
   "metadata": {},
   "outputs": [],
   "source": [
    "model.evaluate(X_test, y_test)"
   ]
  },
  {
   "cell_type": "code",
   "execution_count": null,
   "id": "ab6c2cb7-fd30-4ba5-8741-712dc2865813",
   "metadata": {},
   "outputs": [],
   "source": []
  }
 ],
 "metadata": {
  "kernelspec": {
   "display_name": "base",
   "language": "python",
   "name": "python3"
  },
  "language_info": {
   "codemirror_mode": {
    "name": "ipython",
    "version": 3
   },
   "file_extension": ".py",
   "mimetype": "text/x-python",
   "name": "python",
   "nbconvert_exporter": "python",
   "pygments_lexer": "ipython3",
   "version": "3.12.3"
  }
 },
 "nbformat": 4,
 "nbformat_minor": 5
}
